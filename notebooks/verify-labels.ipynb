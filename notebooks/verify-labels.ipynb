{
 "cells": [
  {
   "cell_type": "markdown",
   "id": "78bc0ab2",
   "metadata": {},
   "source": [
    "# Verify Labels"
   ]
  },
  {
   "cell_type": "code",
   "execution_count": 11,
   "id": "3961c563",
   "metadata": {},
   "outputs": [],
   "source": [
    "import os\n",
    "import pandas as pd"
   ]
  },
  {
   "cell_type": "code",
   "execution_count": 12,
   "id": "ac60eff4",
   "metadata": {},
   "outputs": [],
   "source": [
    "ROOT_DIR = \"../../DAiSEE\"\n",
    "PROCESSED_DIR = os.path.join(ROOT_DIR, \"Processed\")"
   ]
  },
  {
   "cell_type": "code",
   "execution_count": 13,
   "id": "e1b259bb",
   "metadata": {},
   "outputs": [],
   "source": [
    "Train_DF = pd.read_csv(os.path.join(PROCESSED_DIR, \"Train_labels.csv\"))\n",
    "Test_DF = pd.read_csv(os.path.join(PROCESSED_DIR, \"Test_labels.csv\"))\n",
    "Val_DF = pd.read_csv(os.path.join(PROCESSED_DIR, \"Validation_labels.csv\"))"
   ]
  },
  {
   "cell_type": "code",
   "execution_count": 14,
   "id": "db15b0be",
   "metadata": {},
   "outputs": [
    {
     "data": {
      "text/plain": [
       "(5482, 1784, 1720)"
      ]
     },
     "execution_count": 14,
     "metadata": {},
     "output_type": "execute_result"
    }
   ],
   "source": [
    "len(Train_DF), len(Test_DF), len(Val_DF)"
   ]
  },
  {
   "cell_type": "code",
   "execution_count": 15,
   "id": "b0f46ee8",
   "metadata": {},
   "outputs": [],
   "source": [
    "def get_npy_files(directory):\n",
    "    return [f for f in os.listdir(directory) if f.endswith('.npy')]"
   ]
  },
  {
   "cell_type": "code",
   "execution_count": 16,
   "id": "8d06b935",
   "metadata": {},
   "outputs": [],
   "source": [
    "Train_files = get_npy_files(os.path.join(PROCESSED_DIR, \"Train\"))\n",
    "Test_files = get_npy_files(os.path.join(PROCESSED_DIR, \"Test\"))\n",
    "Val_files = get_npy_files(os.path.join(PROCESSED_DIR, \"Validation\"))"
   ]
  },
  {
   "cell_type": "code",
   "execution_count": 17,
   "id": "a363ab0c",
   "metadata": {},
   "outputs": [
    {
     "data": {
      "text/plain": [
       "(5482, 1784, 1720)"
      ]
     },
     "execution_count": 17,
     "metadata": {},
     "output_type": "execute_result"
    }
   ],
   "source": [
    "len(Train_files), len(Test_files), len(Val_files)"
   ]
  },
  {
   "cell_type": "code",
   "execution_count": 18,
   "id": "93f6f713",
   "metadata": {},
   "outputs": [],
   "source": [
    "No_Label_Files = get_npy_files(os.path.join(ROOT_DIR, \"No_Labels\"))"
   ]
  },
  {
   "cell_type": "code",
   "execution_count": 19,
   "id": "47264729",
   "metadata": {},
   "outputs": [
    {
     "data": {
      "text/plain": [
       "82"
      ]
     },
     "execution_count": 19,
     "metadata": {},
     "output_type": "execute_result"
    }
   ],
   "source": [
    "len(No_Label_Files)"
   ]
  },
  {
   "cell_type": "code",
   "execution_count": null,
   "id": "7c256e6f",
   "metadata": {},
   "outputs": [],
   "source": []
  }
 ],
 "metadata": {
  "kernelspec": {
   "display_name": ".venv",
   "language": "python",
   "name": "python3"
  },
  "language_info": {
   "codemirror_mode": {
    "name": "ipython",
    "version": 3
   },
   "file_extension": ".py",
   "mimetype": "text/x-python",
   "name": "python",
   "nbconvert_exporter": "python",
   "pygments_lexer": "ipython3",
   "version": "3.12.11"
  }
 },
 "nbformat": 4,
 "nbformat_minor": 5
}
