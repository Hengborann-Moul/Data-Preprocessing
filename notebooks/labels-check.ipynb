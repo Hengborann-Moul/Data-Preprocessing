{
 "cells": [
  {
   "cell_type": "markdown",
   "id": "39dc29fe",
   "metadata": {},
   "source": [
    "# Labels Check"
   ]
  },
  {
   "cell_type": "code",
   "execution_count": 1,
   "id": "560ae0cd",
   "metadata": {},
   "outputs": [],
   "source": [
    "import os\n",
    "import pandas as pd"
   ]
  },
  {
   "cell_type": "code",
   "execution_count": 4,
   "id": "f5c5ef2c",
   "metadata": {},
   "outputs": [],
   "source": [
    "PROCESSED_DIR = \"../../DAiSEE/Processed\"\n",
    "Train_df = pd.read_csv(os.path.join(PROCESSED_DIR, \"Train_labels.csv\"))\n",
    "Test_df = pd.read_csv(os.path.join(PROCESSED_DIR, \"Test_labels.csv\"))\n",
    "Val_df = pd.read_csv(os.path.join(PROCESSED_DIR, \"Validation_labels.csv\"))"
   ]
  },
  {
   "cell_type": "code",
   "execution_count": 5,
   "id": "cb338c94",
   "metadata": {},
   "outputs": [
    {
     "data": {
      "text/plain": [
       "(5482, 1784, 1720)"
      ]
     },
     "execution_count": 5,
     "metadata": {},
     "output_type": "execute_result"
    }
   ],
   "source": [
    "len(Train_df), len(Test_df), len(Val_df)"
   ]
  },
  {
   "cell_type": "code",
   "execution_count": 6,
   "id": "92abccd9",
   "metadata": {},
   "outputs": [],
   "source": [
    "all_df = pd.concat([Train_df, Test_df, Val_df], ignore_index=True)"
   ]
  },
  {
   "cell_type": "code",
   "execution_count": 7,
   "id": "7df39d83",
   "metadata": {},
   "outputs": [
    {
     "data": {
      "text/plain": [
       "8986"
      ]
     },
     "execution_count": 7,
     "metadata": {},
     "output_type": "execute_result"
    }
   ],
   "source": [
    "len(all_df)"
   ]
  },
  {
   "cell_type": "code",
   "execution_count": 18,
   "id": "cef40c7a",
   "metadata": {},
   "outputs": [
    {
     "data": {
      "text/html": [
       "<div>\n",
       "<style scoped>\n",
       "    .dataframe tbody tr th:only-of-type {\n",
       "        vertical-align: middle;\n",
       "    }\n",
       "\n",
       "    .dataframe tbody tr th {\n",
       "        vertical-align: top;\n",
       "    }\n",
       "\n",
       "    .dataframe thead th {\n",
       "        text-align: right;\n",
       "    }\n",
       "</style>\n",
       "<table border=\"1\" class=\"dataframe\">\n",
       "  <thead>\n",
       "    <tr style=\"text-align: right;\">\n",
       "      <th>Level</th>\n",
       "      <th>0</th>\n",
       "      <th>1</th>\n",
       "      <th>2</th>\n",
       "      <th>3</th>\n",
       "    </tr>\n",
       "    <tr>\n",
       "      <th>Label</th>\n",
       "      <th></th>\n",
       "      <th></th>\n",
       "      <th></th>\n",
       "      <th></th>\n",
       "    </tr>\n",
       "  </thead>\n",
       "  <tbody>\n",
       "    <tr>\n",
       "      <th>Boredom</th>\n",
       "      <td>3844</td>\n",
       "      <td>2886</td>\n",
       "      <td>1924</td>\n",
       "      <td>332</td>\n",
       "    </tr>\n",
       "    <tr>\n",
       "      <th>Confusion</th>\n",
       "      <td>5986</td>\n",
       "      <td>2155</td>\n",
       "      <td>745</td>\n",
       "      <td>100</td>\n",
       "    </tr>\n",
       "    <tr>\n",
       "      <th>Engagement</th>\n",
       "      <td>61</td>\n",
       "      <td>458</td>\n",
       "      <td>4443</td>\n",
       "      <td>4024</td>\n",
       "    </tr>\n",
       "    <tr>\n",
       "      <th>Frustration</th>\n",
       "      <td>6930</td>\n",
       "      <td>1629</td>\n",
       "      <td>340</td>\n",
       "      <td>87</td>\n",
       "    </tr>\n",
       "  </tbody>\n",
       "</table>\n",
       "</div>"
      ],
      "text/plain": [
       "Level           0     1     2     3\n",
       "Label                              \n",
       "Boredom      3844  2886  1924   332\n",
       "Confusion    5986  2155   745   100\n",
       "Engagement     61   458  4443  4024\n",
       "Frustration  6930  1629   340    87"
      ]
     },
     "execution_count": 18,
     "metadata": {},
     "output_type": "execute_result"
    }
   ],
   "source": [
    "# Pivot table to check each label \n",
    "pivot_table = all_df.melt(id_vars=['ClipID'], var_name='Label', value_name='Level') \\\n",
    "    .groupby(['Label', 'Level']).size().unstack(fill_value=0)\n",
    "pivot_table"
   ]
  },
  {
   "cell_type": "code",
   "execution_count": null,
   "id": "a7138d95",
   "metadata": {},
   "outputs": [],
   "source": []
  }
 ],
 "metadata": {
  "kernelspec": {
   "display_name": ".venv",
   "language": "python",
   "name": "python3"
  },
  "language_info": {
   "codemirror_mode": {
    "name": "ipython",
    "version": 3
   },
   "file_extension": ".py",
   "mimetype": "text/x-python",
   "name": "python",
   "nbconvert_exporter": "python",
   "pygments_lexer": "ipython3",
   "version": "3.12.11"
  }
 },
 "nbformat": 4,
 "nbformat_minor": 5
}
